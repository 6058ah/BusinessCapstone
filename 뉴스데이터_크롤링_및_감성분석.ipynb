{
  "nbformat": 4,
  "nbformat_minor": 0,
  "metadata": {
    "colab": {
      "name": "뉴스데이터 크롤링 및 감성분석.ipynb",
      "provenance": [],
      "collapsed_sections": [],
      "toc_visible": true,
      "authorship_tag": "ABX9TyORPiZti9Q10SnflzRJ/t1l",
      "include_colab_link": true
    },
    "kernelspec": {
      "name": "python3",
      "display_name": "Python 3"
    },
    "language_info": {
      "name": "python"
    }
  },
  "cells": [
    {
      "cell_type": "markdown",
      "metadata": {
        "id": "view-in-github",
        "colab_type": "text"
      },
      "source": [
        "<a href=\"https://colab.research.google.com/github/6058ah/BusinessCapstone/blob/master/%EB%89%B4%EC%8A%A4%EB%8D%B0%EC%9D%B4%ED%84%B0_%ED%81%AC%EB%A1%A4%EB%A7%81_%EB%B0%8F_%EA%B0%90%EC%84%B1%EB%B6%84%EC%84%9D.ipynb\" target=\"_parent\"><img src=\"https://colab.research.google.com/assets/colab-badge.svg\" alt=\"Open In Colab\"/></a>"
      ]
    },
    {
      "cell_type": "code",
      "metadata": {
        "colab": {
          "base_uri": "https://localhost:8080/"
        },
        "id": "Fac-_weF6Hc9",
        "outputId": "d3e1e6bb-01d9-4333-c8aa-9a0b808bc956"
      },
      "source": [
        "!pip install xlsxwriter"
      ],
      "execution_count": 2,
      "outputs": [
        {
          "output_type": "stream",
          "text": [
            "Collecting xlsxwriter\n",
            "\u001b[?25l  Downloading https://files.pythonhosted.org/packages/3c/55/21c0d585ff982db07d809ded31528651df77e4ab61ec52683f57609f201f/XlsxWriter-1.4.2-py2.py3-none-any.whl (149kB)\n",
            "\r\u001b[K     |██▏                             | 10kB 16.4MB/s eta 0:00:01\r\u001b[K     |████▍                           | 20kB 12.0MB/s eta 0:00:01\r\u001b[K     |██████▋                         | 30kB 9.4MB/s eta 0:00:01\r\u001b[K     |████████▉                       | 40kB 8.3MB/s eta 0:00:01\r\u001b[K     |███████████                     | 51kB 5.2MB/s eta 0:00:01\r\u001b[K     |█████████████▏                  | 61kB 4.9MB/s eta 0:00:01\r\u001b[K     |███████████████▍                | 71kB 5.5MB/s eta 0:00:01\r\u001b[K     |█████████████████▋              | 81kB 6.1MB/s eta 0:00:01\r\u001b[K     |███████████████████▉            | 92kB 5.9MB/s eta 0:00:01\r\u001b[K     |██████████████████████          | 102kB 5.0MB/s eta 0:00:01\r\u001b[K     |████████████████████████▏       | 112kB 5.0MB/s eta 0:00:01\r\u001b[K     |██████████████████████████▍     | 122kB 5.0MB/s eta 0:00:01\r\u001b[K     |████████████████████████████▋   | 133kB 5.0MB/s eta 0:00:01\r\u001b[K     |██████████████████████████████▉ | 143kB 5.0MB/s eta 0:00:01\r\u001b[K     |████████████████████████████████| 153kB 5.0MB/s \n",
            "\u001b[?25hInstalling collected packages: xlsxwriter\n",
            "Successfully installed xlsxwriter-1.4.2\n"
          ],
          "name": "stdout"
        }
      ]
    },
    {
      "cell_type": "code",
      "metadata": {
        "id": "gv09vQzKsnF6"
      },
      "source": [
        "from google.colab import drive\n",
        "drive.mount('/content/drive')"
      ],
      "execution_count": null,
      "outputs": []
    },
    {
      "cell_type": "code",
      "metadata": {
        "id": "87RqPsLxkriB"
      },
      "source": [
        "from bs4 import BeautifulSoup\n",
        "from datetime import datetime\n",
        "import requests\n",
        "import pandas as pd\n",
        "import re\n",
        "\n",
        "'''''''''''''''''''''''''''''''''''''''''''''''''''''''''\n",
        "< naver 뉴스 검색시 리스트 크롤링하는 프로그램 > _select사용\n",
        "- 크롤링 해오는 것 : 링크,제목,신문사,내용요약본\n",
        "- 내용요약본  -> 정제 작업 필요\n",
        "- 리스트 -> 딕셔너리 -> df -> 엑셀로 저장\n",
        "'''''''''''''''''''''\n",
        "\n",
        "title_text=[]\n",
        "contents_text=[]\n",
        "dates_text = []\n",
        "#result=[]\n",
        "\n",
        "#엑셀로 저장하기 위한 변수\n",
        "RESULT_PATH ='/content/drive'  #결과 저장할 경로\n",
        "\n",
        "#날짜 범위 리스트로 만들기\n",
        "def date_range(start, end):\n",
        "    start = datetime.strptime(start, \"%Y.%m.%d\")\n",
        "    end = datetime.strptime(end, \"%Y.%m.%d\")\n",
        "    dates = [date.strftime(\"%Y.%m.%d\") for date in pd.date_range(start, periods=(end-start).days+1)]\n",
        "    return dates\n",
        "\n",
        "#def contents_cleansing(contents):\n",
        "#    first_cleansing_contents = re.sub('<dl>.*?</a> </div> </dd> <dd>', '',str(contents)).strip()  #앞에 필요없는 부분 제거\n",
        "#    second_cleansing_contents = re.sub('<ul class=\"relation_lst\">.*?</dd>', '', first_cleansing_contents).strip()#뒤에 필요없는 부분 제거 (새끼 기사)\n",
        "#    third_cleansing_contents = re.sub('<.+?>', '', second_cleansing_contents).strip()\n",
        "#    contents_text.append(third_cleansing_contents)\n",
        "#    #print(contents_text)\n",
        "\n",
        "#크롤링 시작\n",
        "def crawler(query,s_date,e_date):\n",
        "  dates= date_range(s_date,e_date)\n",
        "  page_num = [1,11,21,31,41]\n",
        "  #maxpage_t =41\n",
        "  for x in dates:\n",
        "    #print(x)\n",
        "    for page_number in page_num:\n",
        "      ds = x.replace(\".\",\"\")\n",
        "      de = ds\n",
        "      url = \"https://search.naver.com/search.naver?where=news&query=\" + query + \"&sort=0\"+\"&ds=\" + x + \"&de=\" + x + \"&nso=so%3Ar%2Cp%3Afrom\" + ds + \"to\" + de + \"%2Ca%3A&start=\" + str(page_number)\n",
        "      #url = \"https://search.naver.com/search.naver?&where=news&query={0}&sm=tab_pge&sort={1}&photo=0&field=0&reporter_article=&pd=3&ds={2}&de={2}&docid=&nso=so:r,p:,a:all&mynews=1&cluster_rank=238&start={3}&refresh_start=0\".format(query,sort,x,str(page_num))\n",
        "      #print(url)\n",
        "      response = requests.get(url)\n",
        "      html = response.text\n",
        "\n",
        "      #뷰티풀소프의 인자값 지정\n",
        "      soup = BeautifulSoup(html, 'html.parser')\n",
        "\n",
        "      #뉴스 날짜\n",
        "#      bbs = soup.find_all('span', 'info')\n",
        "#      for bb in bbs:\n",
        "#        t = bb.text\n",
        "#        dates_text.append(t)\n",
        "#      search = \"면\"\n",
        "#      for word in dates_text:\n",
        "#        if search in word: \n",
        "#          dates_text.remove(word)\n",
        "\n",
        "\n",
        "      #<a>태그에서 제목과 링크주소 (a 태그 중 class 명이 news_tit인 것)\n",
        "      atags = soup.find_all('a', 'news_tit')\n",
        "      for atag in atags:\n",
        "        title = atag.get('title')\n",
        "        title_text.append(title)     #제목\n",
        "        dates_text.append(x)\n",
        "            \n",
        "      #본문요약본 (a 태그 중 class 명이 api_txt_lines dsc_txt_wrap인 것)\n",
        "      #contents_lists = soup.find_all('a','api_txt_lines dsc_txt_wrap')\n",
        "      #for contents_list in contents_lists:\n",
        "      #  contents_cleansing(contents_list) #본문요약 정제화\n",
        "\n",
        "\n",
        "      #모든 리스트 딕셔너리형태로 저장\n",
        "      #result= {\"Date\":dates_text,\"title\":title_text}\n",
        "      df1 = pd.DataFrame(dates_text)\n",
        "      df2 = pd.DataFrame(title_text) #df로 변환\n",
        "      result = pd.concat([df1,df2],axis=1)\n",
        "      #print(result)\n",
        "\n",
        "  outputFileName = '{0}~{1} {2} 관련 뉴스.xlsx'.format(s_date.replace(\".\",\"\"), e_date.replace(\".\",\"\"), query)\n",
        "  writer = pd.ExcelWriter(outputFileName, engine='xlsxwriter')\n",
        "  result.to_excel(writer, sheet_name= '{0}~{1} {2} 뉴스'.format(s_date.replace(\".\",\"\"), e_date.replace(\".\",\"\"), query))\n",
        "  writer.save()\n",
        "\n",
        "#메인함수\n",
        "def main():\n",
        "    info_main = input(\"=\"*50+\"\\n\"+\"입력 형식에 맞게 입력해주세요.\"+\"\\n\"+\" 시작하시려면 Enter를 눌러주세요.\"+\"\\n\"+\"=\"*50)\n",
        "    query = input(\"검색어 입력: \") #네이버, 부동산...\n",
        "    s_date = input(\"시작날짜 입력(예시:2019.01.01):\")\n",
        "    e_date = input(\"끝날짜 입력:\")\n",
        "    crawler(query,s_date,e_date)\n",
        "  "
      ],
      "execution_count": 4,
      "outputs": []
    },
    {
      "cell_type": "code",
      "metadata": {
        "colab": {
          "base_uri": "https://localhost:8080/"
        },
        "id": "rDeMius8cLgx",
        "outputId": "b0cce57d-db1d-486e-e65d-eaea45bf26a5"
      },
      "source": [
        "#2차전지산업, 2019.01.01~2021.05.03로 입력\n",
        "main()"
      ],
      "execution_count": null,
      "outputs": [
        {
          "output_type": "stream",
          "text": [
            "==================================================\n",
            "입력 형식에 맞게 입력해주세요.\n",
            " 시작하시려면 Enter를 눌러주세요.\n",
            "==================================================\n",
            "검색어 입력: 2차전지산업\n",
            "시작날짜 입력(예시:2019.01.01):2019.01.01\n",
            "끝날짜 입력:2019.01.03\n"
          ],
          "name": "stdout"
        }
      ]
    },
    {
      "cell_type": "markdown",
      "metadata": {
        "id": "1fDf-dOW855Q"
      },
      "source": [
        "#참고\n",
        "##https://hansuho113.tistory.com/3?category=913503\n",
        "##https://adsp-ggini.tistory.com/80"
      ]
    },
    {
      "cell_type": "markdown",
      "metadata": {
        "id": "erTaAmhepXQQ"
      },
      "source": [
        "##감성분석"
      ]
    },
    {
      "cell_type": "code",
      "metadata": {
        "colab": {
          "base_uri": "https://localhost:8080/",
          "height": 630
        },
        "id": "INM_3EnbpW5U",
        "outputId": "31339037-bc25-49a6-ef65-322c3400f70d"
      },
      "source": [
        "!pip install konlpy"
      ],
      "execution_count": 5,
      "outputs": [
        {
          "output_type": "stream",
          "text": [
            "Collecting konlpy\n",
            "\u001b[?25l  Downloading https://files.pythonhosted.org/packages/85/0e/f385566fec837c0b83f216b2da65db9997b35dd675e107752005b7d392b1/konlpy-0.5.2-py2.py3-none-any.whl (19.4MB)\n",
            "\u001b[K     |████████████████████████████████| 19.4MB 1.9MB/s \n",
            "\u001b[?25hRequirement already satisfied: numpy>=1.6 in /usr/local/lib/python3.7/dist-packages (from konlpy) (1.19.5)\n",
            "Collecting beautifulsoup4==4.6.0\n",
            "\u001b[?25l  Downloading https://files.pythonhosted.org/packages/9e/d4/10f46e5cfac773e22707237bfcd51bbffeaf0a576b0a847ec7ab15bd7ace/beautifulsoup4-4.6.0-py3-none-any.whl (86kB)\n",
            "\u001b[K     |████████████████████████████████| 92kB 8.0MB/s \n",
            "\u001b[?25hRequirement already satisfied: tweepy>=3.7.0 in /usr/local/lib/python3.7/dist-packages (from konlpy) (3.10.0)\n",
            "Requirement already satisfied: lxml>=4.1.0 in /usr/local/lib/python3.7/dist-packages (from konlpy) (4.2.6)\n",
            "Collecting colorama\n",
            "  Downloading https://files.pythonhosted.org/packages/44/98/5b86278fbbf250d239ae0ecb724f8572af1c91f4a11edf4d36a206189440/colorama-0.4.4-py2.py3-none-any.whl\n",
            "Collecting JPype1>=0.7.0\n",
            "\u001b[?25l  Downloading https://files.pythonhosted.org/packages/cd/a5/9781e2ef4ca92d09912c4794642c1653aea7607f473e156cf4d423a881a1/JPype1-1.2.1-cp37-cp37m-manylinux2010_x86_64.whl (457kB)\n",
            "\u001b[K     |████████████████████████████████| 460kB 43.3MB/s \n",
            "\u001b[?25hRequirement already satisfied: six>=1.10.0 in /usr/local/lib/python3.7/dist-packages (from tweepy>=3.7.0->konlpy) (1.15.0)\n",
            "Requirement already satisfied: requests-oauthlib>=0.7.0 in /usr/local/lib/python3.7/dist-packages (from tweepy>=3.7.0->konlpy) (1.3.0)\n",
            "Requirement already satisfied: requests[socks]>=2.11.1 in /usr/local/lib/python3.7/dist-packages (from tweepy>=3.7.0->konlpy) (2.23.0)\n",
            "Requirement already satisfied: typing-extensions; python_version < \"3.8\" in /usr/local/lib/python3.7/dist-packages (from JPype1>=0.7.0->konlpy) (3.7.4.3)\n",
            "Requirement already satisfied: oauthlib>=3.0.0 in /usr/local/lib/python3.7/dist-packages (from requests-oauthlib>=0.7.0->tweepy>=3.7.0->konlpy) (3.1.0)\n",
            "Requirement already satisfied: idna<3,>=2.5 in /usr/local/lib/python3.7/dist-packages (from requests[socks]>=2.11.1->tweepy>=3.7.0->konlpy) (2.10)\n",
            "Requirement already satisfied: chardet<4,>=3.0.2 in /usr/local/lib/python3.7/dist-packages (from requests[socks]>=2.11.1->tweepy>=3.7.0->konlpy) (3.0.4)\n",
            "Requirement already satisfied: certifi>=2017.4.17 in /usr/local/lib/python3.7/dist-packages (from requests[socks]>=2.11.1->tweepy>=3.7.0->konlpy) (2020.12.5)\n",
            "Requirement already satisfied: urllib3!=1.25.0,!=1.25.1,<1.26,>=1.21.1 in /usr/local/lib/python3.7/dist-packages (from requests[socks]>=2.11.1->tweepy>=3.7.0->konlpy) (1.24.3)\n",
            "Requirement already satisfied: PySocks!=1.5.7,>=1.5.6; extra == \"socks\" in /usr/local/lib/python3.7/dist-packages (from requests[socks]>=2.11.1->tweepy>=3.7.0->konlpy) (1.7.1)\n",
            "Installing collected packages: beautifulsoup4, colorama, JPype1, konlpy\n",
            "  Found existing installation: beautifulsoup4 4.6.3\n",
            "    Uninstalling beautifulsoup4-4.6.3:\n",
            "      Successfully uninstalled beautifulsoup4-4.6.3\n",
            "Successfully installed JPype1-1.2.1 beautifulsoup4-4.6.0 colorama-0.4.4 konlpy-0.5.2\n"
          ],
          "name": "stdout"
        },
        {
          "output_type": "display_data",
          "data": {
            "application/vnd.colab-display-data+json": {
              "pip_warning": {
                "packages": [
                  "bs4"
                ]
              }
            }
          },
          "metadata": {
            "tags": []
          }
        }
      ]
    },
    {
      "cell_type": "code",
      "metadata": {
        "id": "9rETGrAWcCeh",
        "colab": {
          "base_uri": "https://localhost:8080/"
        },
        "outputId": "b2a1efc5-2622-4792-e59f-1c28a6f2af7a"
      },
      "source": [
        "!git clone https://github.com/FinanceData/corpus.git"
      ],
      "execution_count": 6,
      "outputs": [
        {
          "output_type": "stream",
          "text": [
            "Cloning into 'corpus'...\n",
            "remote: Enumerating objects: 11, done.\u001b[K\n",
            "remote: Total 11 (delta 0), reused 0 (delta 0), pack-reused 11\u001b[K\n",
            "Unpacking objects: 100% (11/11), done.\n"
          ],
          "name": "stdout"
        }
      ]
    },
    {
      "cell_type": "code",
      "metadata": {
        "id": "-hbO_7kFpgpD"
      },
      "source": [
        "from konlpy.tag import Kkma\n",
        "\n",
        "engine = Kkma()\n",
        "polarity_dic = pd.read_csv('corpus/kosac/polarity.csv')\n",
        "polarity_dic.set_index('ngram', inplace=True)\n",
        "\n",
        "def polarity_score(text):\n",
        "    pos_tags = engine.pos(text)\n",
        "\n",
        "    # n-gram\n",
        "    unigram = ['/'.join(p) for p in pos_tags]\n",
        "    bigram = [';'.join(z) for z in zip(unigram, unigram[1:])]\n",
        "    trigram = [';'.join(z) for z in zip(*[unigram[i:] for i in range(3)])]\n",
        "    \n",
        "    p_score = 0\n",
        "    # polarity score = (p-n) / (p+n)\n",
        "    for ngram in [unigram, bigram, trigram]:\n",
        "        cond = polarity_dic.index.isin(ngram)\n",
        "        s = polarity_dic.loc[cond, :].sum()\n",
        "        if s['POS'] + s['NEG'] > 0: # div 0 방지\n",
        "            p_score += (s['POS'] - s['NEG']) / (s['POS'] + s['NEG'])\n",
        "    return p_score"
      ],
      "execution_count": 7,
      "outputs": []
    },
    {
      "cell_type": "code",
      "metadata": {
        "id": "uYNhC1K6pky7"
      },
      "source": [
        "news = pd.read_excel('/content/20190101_20210503 2차전지산업 관련 뉴스.xlsx')"
      ],
      "execution_count": 8,
      "outputs": []
    },
    {
      "cell_type": "code",
      "metadata": {
        "colab": {
          "base_uri": "https://localhost:8080/",
          "height": 204
        },
        "id": "KtPEXNv9p5I5",
        "outputId": "9d7f600c-f7e7-4e3c-fe2a-2cc2a0cd2281"
      },
      "source": [
        "news.head()"
      ],
      "execution_count": 9,
      "outputs": [
        {
          "output_type": "execute_result",
          "data": {
            "text/html": [
              "<div>\n",
              "<style scoped>\n",
              "    .dataframe tbody tr th:only-of-type {\n",
              "        vertical-align: middle;\n",
              "    }\n",
              "\n",
              "    .dataframe tbody tr th {\n",
              "        vertical-align: top;\n",
              "    }\n",
              "\n",
              "    .dataframe thead th {\n",
              "        text-align: right;\n",
              "    }\n",
              "</style>\n",
              "<table border=\"1\" class=\"dataframe\">\n",
              "  <thead>\n",
              "    <tr style=\"text-align: right;\">\n",
              "      <th></th>\n",
              "      <th>Unnamed: 0</th>\n",
              "      <th>0</th>\n",
              "      <th>0.1</th>\n",
              "    </tr>\n",
              "  </thead>\n",
              "  <tbody>\n",
              "    <tr>\n",
              "      <th>0</th>\n",
              "      <td>0</td>\n",
              "      <td>2019.01.01</td>\n",
              "      <td>전기차 보급 확대에…2차전지株 훈풍 부나</td>\n",
              "    </tr>\n",
              "    <tr>\n",
              "      <th>1</th>\n",
              "      <td>1</td>\n",
              "      <td>2019.01.01</td>\n",
              "      <td>\"내년 2차전지 EV배터리 성장…삼성SDI·에코프로 주목\"</td>\n",
              "    </tr>\n",
              "    <tr>\n",
              "      <th>2</th>\n",
              "      <td>2</td>\n",
              "      <td>2019.01.01</td>\n",
              "      <td>[제조업 위기속 미래를 꿈꾸는 기업]포스코켐텍 \"ESM과 합병···2차전지 소재 飛...</td>\n",
              "    </tr>\n",
              "    <tr>\n",
              "      <th>3</th>\n",
              "      <td>3</td>\n",
              "      <td>2019.01.01</td>\n",
              "      <td>\"코스피, 2분기 '반등'…코스닥은 4차산업 등 성장주 유망\"</td>\n",
              "    </tr>\n",
              "    <tr>\n",
              "      <th>4</th>\n",
              "      <td>4</td>\n",
              "      <td>2019.01.01</td>\n",
              "      <td>성윤모 산업장관 \"2년 연속 수출 6천억달러 달성하겠다\"</td>\n",
              "    </tr>\n",
              "  </tbody>\n",
              "</table>\n",
              "</div>"
            ],
            "text/plain": [
              "   Unnamed: 0           0                                                0.1\n",
              "0           0  2019.01.01                             전기차 보급 확대에…2차전지株 훈풍 부나\n",
              "1           1  2019.01.01                   \"내년 2차전지 EV배터리 성장…삼성SDI·에코프로 주목\"\n",
              "2           2  2019.01.01  [제조업 위기속 미래를 꿈꾸는 기업]포스코켐텍 \"ESM과 합병···2차전지 소재 飛...\n",
              "3           3  2019.01.01                 \"코스피, 2분기 '반등'…코스닥은 4차산업 등 성장주 유망\"\n",
              "4           4  2019.01.01                    성윤모 산업장관 \"2년 연속 수출 6천억달러 달성하겠다\""
            ]
          },
          "metadata": {
            "tags": []
          },
          "execution_count": 9
        }
      ]
    },
    {
      "cell_type": "code",
      "metadata": {
        "colab": {
          "base_uri": "https://localhost:8080/",
          "height": 204
        },
        "id": "nIVi7NjusMVf",
        "outputId": "677ad340-2382-4a0b-fd1c-90ccca2eec9c"
      },
      "source": [
        "news.columns = ['Count', 'Date', 'Title']\n",
        "news.head()"
      ],
      "execution_count": 10,
      "outputs": [
        {
          "output_type": "execute_result",
          "data": {
            "text/html": [
              "<div>\n",
              "<style scoped>\n",
              "    .dataframe tbody tr th:only-of-type {\n",
              "        vertical-align: middle;\n",
              "    }\n",
              "\n",
              "    .dataframe tbody tr th {\n",
              "        vertical-align: top;\n",
              "    }\n",
              "\n",
              "    .dataframe thead th {\n",
              "        text-align: right;\n",
              "    }\n",
              "</style>\n",
              "<table border=\"1\" class=\"dataframe\">\n",
              "  <thead>\n",
              "    <tr style=\"text-align: right;\">\n",
              "      <th></th>\n",
              "      <th>Count</th>\n",
              "      <th>Date</th>\n",
              "      <th>Title</th>\n",
              "    </tr>\n",
              "  </thead>\n",
              "  <tbody>\n",
              "    <tr>\n",
              "      <th>0</th>\n",
              "      <td>0</td>\n",
              "      <td>2019.01.01</td>\n",
              "      <td>전기차 보급 확대에…2차전지株 훈풍 부나</td>\n",
              "    </tr>\n",
              "    <tr>\n",
              "      <th>1</th>\n",
              "      <td>1</td>\n",
              "      <td>2019.01.01</td>\n",
              "      <td>\"내년 2차전지 EV배터리 성장…삼성SDI·에코프로 주목\"</td>\n",
              "    </tr>\n",
              "    <tr>\n",
              "      <th>2</th>\n",
              "      <td>2</td>\n",
              "      <td>2019.01.01</td>\n",
              "      <td>[제조업 위기속 미래를 꿈꾸는 기업]포스코켐텍 \"ESM과 합병···2차전지 소재 飛...</td>\n",
              "    </tr>\n",
              "    <tr>\n",
              "      <th>3</th>\n",
              "      <td>3</td>\n",
              "      <td>2019.01.01</td>\n",
              "      <td>\"코스피, 2분기 '반등'…코스닥은 4차산업 등 성장주 유망\"</td>\n",
              "    </tr>\n",
              "    <tr>\n",
              "      <th>4</th>\n",
              "      <td>4</td>\n",
              "      <td>2019.01.01</td>\n",
              "      <td>성윤모 산업장관 \"2년 연속 수출 6천억달러 달성하겠다\"</td>\n",
              "    </tr>\n",
              "  </tbody>\n",
              "</table>\n",
              "</div>"
            ],
            "text/plain": [
              "   Count        Date                                              Title\n",
              "0      0  2019.01.01                             전기차 보급 확대에…2차전지株 훈풍 부나\n",
              "1      1  2019.01.01                   \"내년 2차전지 EV배터리 성장…삼성SDI·에코프로 주목\"\n",
              "2      2  2019.01.01  [제조업 위기속 미래를 꿈꾸는 기업]포스코켐텍 \"ESM과 합병···2차전지 소재 飛...\n",
              "3      3  2019.01.01                 \"코스피, 2분기 '반등'…코스닥은 4차산업 등 성장주 유망\"\n",
              "4      4  2019.01.01                    성윤모 산업장관 \"2년 연속 수출 6천억달러 달성하겠다\""
            ]
          },
          "metadata": {
            "tags": []
          },
          "execution_count": 10
        }
      ]
    },
    {
      "cell_type": "code",
      "metadata": {
        "colab": {
          "base_uri": "https://localhost:8080/"
        },
        "id": "wb8Q2148rkzG",
        "outputId": "002eb0be-2521-4560-87b9-47f358d4d429"
      },
      "source": [
        "news.loc[:,'Title']"
      ],
      "execution_count": 11,
      "outputs": [
        {
          "output_type": "execute_result",
          "data": {
            "text/plain": [
              "0                                   전기차 보급 확대에…2차전지株 훈풍 부나\n",
              "1                         \"내년 2차전지 EV배터리 성장…삼성SDI·에코프로 주목\"\n",
              "2        [제조업 위기속 미래를 꿈꾸는 기업]포스코켐텍 \"ESM과 합병···2차전지 소재 飛...\n",
              "3                       \"코스피, 2분기 '반등'…코스닥은 4차산업 등 성장주 유망\"\n",
              "4                          성윤모 산업장관 \"2년 연속 수출 6천억달러 달성하겠다\"\n",
              "                               ...                        \n",
              "24450                    거래소, 2021 코넥스 신성장산업 릴레이 비대면 IR 개최\n",
              "24451                          경찰청, 6개월간 산업기술 해외 유출사범 특별단속\n",
              "24452                    거래소, 코넥스시장 활성화 위해 ‘릴레이 비대면 IR’ 개최\n",
              "24453                   신한금융투자 \"SK머티리얼즈, 전방산업 호조에 매출 확대 중\"\n",
              "24454              ‘재계 50위권’ LX홀딩스 논란 딛고 공식 출범…구본준 3년만에 복귀\n",
              "Name: Title, Length: 24455, dtype: object"
            ]
          },
          "metadata": {
            "tags": []
          },
          "execution_count": 11
        }
      ]
    },
    {
      "cell_type": "code",
      "metadata": {
        "id": "Y8ztfrHZp6kj"
      },
      "source": [
        "news_scores = []\n",
        "for i in news.loc[:,'Title']:\n",
        "  news_score = polarity_score(i)\n",
        "  #print(news_score)\n",
        "  news_scores.append(news_score)"
      ],
      "execution_count": 12,
      "outputs": []
    },
    {
      "cell_type": "code",
      "metadata": {
        "id": "WyEIRlq7txam"
      },
      "source": [
        "news_scores_df = pd.DataFrame(data = news_scores, columns=['Score'])"
      ],
      "execution_count": 17,
      "outputs": []
    },
    {
      "cell_type": "code",
      "metadata": {
        "colab": {
          "base_uri": "https://localhost:8080/",
          "height": 419
        },
        "id": "3PpLkS_6wX4W",
        "outputId": "ca323292-b35b-40ca-9de2-1a98a07a8240"
      },
      "source": [
        "news_scores_df"
      ],
      "execution_count": 18,
      "outputs": [
        {
          "output_type": "execute_result",
          "data": {
            "text/html": [
              "<div>\n",
              "<style scoped>\n",
              "    .dataframe tbody tr th:only-of-type {\n",
              "        vertical-align: middle;\n",
              "    }\n",
              "\n",
              "    .dataframe tbody tr th {\n",
              "        vertical-align: top;\n",
              "    }\n",
              "\n",
              "    .dataframe thead th {\n",
              "        text-align: right;\n",
              "    }\n",
              "</style>\n",
              "<table border=\"1\" class=\"dataframe\">\n",
              "  <thead>\n",
              "    <tr style=\"text-align: right;\">\n",
              "      <th></th>\n",
              "      <th>Score</th>\n",
              "    </tr>\n",
              "  </thead>\n",
              "  <tbody>\n",
              "    <tr>\n",
              "      <th>0</th>\n",
              "      <td>1.000000</td>\n",
              "    </tr>\n",
              "    <tr>\n",
              "      <th>1</th>\n",
              "      <td>0.714286</td>\n",
              "    </tr>\n",
              "    <tr>\n",
              "      <th>2</th>\n",
              "      <td>0.027491</td>\n",
              "    </tr>\n",
              "    <tr>\n",
              "      <th>3</th>\n",
              "      <td>-0.386589</td>\n",
              "    </tr>\n",
              "    <tr>\n",
              "      <th>4</th>\n",
              "      <td>-0.150030</td>\n",
              "    </tr>\n",
              "    <tr>\n",
              "      <th>...</th>\n",
              "      <td>...</td>\n",
              "    </tr>\n",
              "    <tr>\n",
              "      <th>24450</th>\n",
              "      <td>0.500000</td>\n",
              "    </tr>\n",
              "    <tr>\n",
              "      <th>24451</th>\n",
              "      <td>-0.333333</td>\n",
              "    </tr>\n",
              "    <tr>\n",
              "      <th>24452</th>\n",
              "      <td>-0.142336</td>\n",
              "    </tr>\n",
              "    <tr>\n",
              "      <th>24453</th>\n",
              "      <td>0.333333</td>\n",
              "    </tr>\n",
              "    <tr>\n",
              "      <th>24454</th>\n",
              "      <td>-0.339535</td>\n",
              "    </tr>\n",
              "  </tbody>\n",
              "</table>\n",
              "<p>24455 rows × 1 columns</p>\n",
              "</div>"
            ],
            "text/plain": [
              "          Score\n",
              "0      1.000000\n",
              "1      0.714286\n",
              "2      0.027491\n",
              "3     -0.386589\n",
              "4     -0.150030\n",
              "...         ...\n",
              "24450  0.500000\n",
              "24451 -0.333333\n",
              "24452 -0.142336\n",
              "24453  0.333333\n",
              "24454 -0.339535\n",
              "\n",
              "[24455 rows x 1 columns]"
            ]
          },
          "metadata": {
            "tags": []
          },
          "execution_count": 18
        }
      ]
    },
    {
      "cell_type": "code",
      "metadata": {
        "colab": {
          "base_uri": "https://localhost:8080/",
          "height": 204
        },
        "id": "Zp09Z4n6x7R2",
        "outputId": "adb17c12-8d2a-4cee-e0d9-e5b0eb907d4b"
      },
      "source": [
        "result = pd.concat([news,news_scores_df],axis=1)\n",
        "result.head()"
      ],
      "execution_count": 19,
      "outputs": [
        {
          "output_type": "execute_result",
          "data": {
            "text/html": [
              "<div>\n",
              "<style scoped>\n",
              "    .dataframe tbody tr th:only-of-type {\n",
              "        vertical-align: middle;\n",
              "    }\n",
              "\n",
              "    .dataframe tbody tr th {\n",
              "        vertical-align: top;\n",
              "    }\n",
              "\n",
              "    .dataframe thead th {\n",
              "        text-align: right;\n",
              "    }\n",
              "</style>\n",
              "<table border=\"1\" class=\"dataframe\">\n",
              "  <thead>\n",
              "    <tr style=\"text-align: right;\">\n",
              "      <th></th>\n",
              "      <th>Count</th>\n",
              "      <th>Date</th>\n",
              "      <th>Title</th>\n",
              "      <th>Score</th>\n",
              "    </tr>\n",
              "  </thead>\n",
              "  <tbody>\n",
              "    <tr>\n",
              "      <th>0</th>\n",
              "      <td>0</td>\n",
              "      <td>2019.01.01</td>\n",
              "      <td>전기차 보급 확대에…2차전지株 훈풍 부나</td>\n",
              "      <td>1.000000</td>\n",
              "    </tr>\n",
              "    <tr>\n",
              "      <th>1</th>\n",
              "      <td>1</td>\n",
              "      <td>2019.01.01</td>\n",
              "      <td>\"내년 2차전지 EV배터리 성장…삼성SDI·에코프로 주목\"</td>\n",
              "      <td>0.714286</td>\n",
              "    </tr>\n",
              "    <tr>\n",
              "      <th>2</th>\n",
              "      <td>2</td>\n",
              "      <td>2019.01.01</td>\n",
              "      <td>[제조업 위기속 미래를 꿈꾸는 기업]포스코켐텍 \"ESM과 합병···2차전지 소재 飛...</td>\n",
              "      <td>0.027491</td>\n",
              "    </tr>\n",
              "    <tr>\n",
              "      <th>3</th>\n",
              "      <td>3</td>\n",
              "      <td>2019.01.01</td>\n",
              "      <td>\"코스피, 2분기 '반등'…코스닥은 4차산업 등 성장주 유망\"</td>\n",
              "      <td>-0.386589</td>\n",
              "    </tr>\n",
              "    <tr>\n",
              "      <th>4</th>\n",
              "      <td>4</td>\n",
              "      <td>2019.01.01</td>\n",
              "      <td>성윤모 산업장관 \"2년 연속 수출 6천억달러 달성하겠다\"</td>\n",
              "      <td>-0.150030</td>\n",
              "    </tr>\n",
              "  </tbody>\n",
              "</table>\n",
              "</div>"
            ],
            "text/plain": [
              "   Count  ...     Score\n",
              "0      0  ...  1.000000\n",
              "1      1  ...  0.714286\n",
              "2      2  ...  0.027491\n",
              "3      3  ... -0.386589\n",
              "4      4  ... -0.150030\n",
              "\n",
              "[5 rows x 4 columns]"
            ]
          },
          "metadata": {
            "tags": []
          },
          "execution_count": 19
        }
      ]
    },
    {
      "cell_type": "code",
      "metadata": {
        "colab": {
          "base_uri": "https://localhost:8080/"
        },
        "id": "Gf2MJVBWyFut",
        "outputId": "ea4c7f1b-1f5c-40c9-c349-7e5338e37f67"
      },
      "source": [
        "result.loc[result['Date']=='2019.01.01','Score'].mean()"
      ],
      "execution_count": 26,
      "outputs": [
        {
          "output_type": "execute_result",
          "data": {
            "text/plain": [
              "0.34520448402841236"
            ]
          },
          "metadata": {
            "tags": []
          },
          "execution_count": 26
        }
      ]
    },
    {
      "cell_type": "code",
      "metadata": {
        "id": "9w3tsCaG0kvu"
      },
      "source": [
        "dr = date_range('2019.01.01','2021.05.03')\n",
        "mean_text = []\n",
        "for i in dr:\n",
        "  Smean = result.loc[result['Date']==i,'Score'].mean()\n",
        "  mean_text.append(Smean)\n",
        "\n",
        "df1= pd.DataFrame(dr)\n",
        "df2= pd.DataFrame(mean_text)\n",
        "\n",
        "date_mean_score = pd.concat([df1,df2],axis=1)"
      ],
      "execution_count": 59,
      "outputs": []
    },
    {
      "cell_type": "code",
      "metadata": {
        "colab": {
          "base_uri": "https://localhost:8080/"
        },
        "id": "kTNbr3D92C1L",
        "outputId": "32101f91-2f11-4c24-a507-88e1d8047394"
      },
      "source": [
        "date_mean_score.columns = ['Date','Score']\n",
        "type(date_mean_score)"
      ],
      "execution_count": 68,
      "outputs": [
        {
          "output_type": "execute_result",
          "data": {
            "text/plain": [
              "pandas.core.frame.DataFrame"
            ]
          },
          "metadata": {
            "tags": []
          },
          "execution_count": 68
        }
      ]
    },
    {
      "cell_type": "code",
      "metadata": {
        "id": "4ZESwR-44_Jr"
      },
      "source": [
        "date_mean_score.to_excel('20190101_20210503 2차전지산업 관련 뉴스 감성점수.xlsx')"
      ],
      "execution_count": 66,
      "outputs": []
    },
    {
      "cell_type": "code",
      "metadata": {
        "colab": {
          "base_uri": "https://localhost:8080/",
          "height": 419
        },
        "id": "p4W6ikpKAaDq",
        "outputId": "5aa1d106-d380-4e7f-d790-905a2feabcda"
      },
      "source": [
        "date_mean_score"
      ],
      "execution_count": 70,
      "outputs": [
        {
          "output_type": "execute_result",
          "data": {
            "text/html": [
              "<div>\n",
              "<style scoped>\n",
              "    .dataframe tbody tr th:only-of-type {\n",
              "        vertical-align: middle;\n",
              "    }\n",
              "\n",
              "    .dataframe tbody tr th {\n",
              "        vertical-align: top;\n",
              "    }\n",
              "\n",
              "    .dataframe thead th {\n",
              "        text-align: right;\n",
              "    }\n",
              "</style>\n",
              "<table border=\"1\" class=\"dataframe\">\n",
              "  <thead>\n",
              "    <tr style=\"text-align: right;\">\n",
              "      <th></th>\n",
              "      <th>Date</th>\n",
              "      <th>Score</th>\n",
              "    </tr>\n",
              "  </thead>\n",
              "  <tbody>\n",
              "    <tr>\n",
              "      <th>0</th>\n",
              "      <td>2019.01.01</td>\n",
              "      <td>0.345204</td>\n",
              "    </tr>\n",
              "    <tr>\n",
              "      <th>1</th>\n",
              "      <td>2019.01.02</td>\n",
              "      <td>0.104540</td>\n",
              "    </tr>\n",
              "    <tr>\n",
              "      <th>2</th>\n",
              "      <td>2019.01.03</td>\n",
              "      <td>-0.018915</td>\n",
              "    </tr>\n",
              "    <tr>\n",
              "      <th>3</th>\n",
              "      <td>2019.01.04</td>\n",
              "      <td>0.256299</td>\n",
              "    </tr>\n",
              "    <tr>\n",
              "      <th>4</th>\n",
              "      <td>2019.01.05</td>\n",
              "      <td>-0.529001</td>\n",
              "    </tr>\n",
              "    <tr>\n",
              "      <th>...</th>\n",
              "      <td>...</td>\n",
              "      <td>...</td>\n",
              "    </tr>\n",
              "    <tr>\n",
              "      <th>849</th>\n",
              "      <td>2021.04.29</td>\n",
              "      <td>0.121223</td>\n",
              "    </tr>\n",
              "    <tr>\n",
              "      <th>850</th>\n",
              "      <td>2021.04.30</td>\n",
              "      <td>0.496268</td>\n",
              "    </tr>\n",
              "    <tr>\n",
              "      <th>851</th>\n",
              "      <td>2021.05.01</td>\n",
              "      <td>0.109544</td>\n",
              "    </tr>\n",
              "    <tr>\n",
              "      <th>852</th>\n",
              "      <td>2021.05.02</td>\n",
              "      <td>0.155065</td>\n",
              "    </tr>\n",
              "    <tr>\n",
              "      <th>853</th>\n",
              "      <td>2021.05.03</td>\n",
              "      <td>0.038935</td>\n",
              "    </tr>\n",
              "  </tbody>\n",
              "</table>\n",
              "<p>854 rows × 2 columns</p>\n",
              "</div>"
            ],
            "text/plain": [
              "           Date     Score\n",
              "0    2019.01.01  0.345204\n",
              "1    2019.01.02  0.104540\n",
              "2    2019.01.03 -0.018915\n",
              "3    2019.01.04  0.256299\n",
              "4    2019.01.05 -0.529001\n",
              "..          ...       ...\n",
              "849  2021.04.29  0.121223\n",
              "850  2021.04.30  0.496268\n",
              "851  2021.05.01  0.109544\n",
              "852  2021.05.02  0.155065\n",
              "853  2021.05.03  0.038935\n",
              "\n",
              "[854 rows x 2 columns]"
            ]
          },
          "metadata": {
            "tags": []
          },
          "execution_count": 70
        }
      ]
    },
    {
      "cell_type": "code",
      "metadata": {
        "colab": {
          "base_uri": "https://localhost:8080/",
          "height": 288
        },
        "id": "0sw0EN6k6E8s",
        "outputId": "2cb8494c-1d86-4100-b8cb-f8ddfaa6f972"
      },
      "source": [
        "date_mean_score.plot()"
      ],
      "execution_count": 69,
      "outputs": [
        {
          "output_type": "execute_result",
          "data": {
            "text/plain": [
              "<matplotlib.axes._subplots.AxesSubplot at 0x7faa9ed43a10>"
            ]
          },
          "metadata": {
            "tags": []
          },
          "execution_count": 69
        },
        {
          "output_type": "display_data",
          "data": {
            "image/png": "[encoded data removed]",
            "text/plain": [
              "<Figure size 432x288 with 1 Axes>"
            ]
          },
          "metadata": {
            "tags": [],
            "needs_background": "light"
          }
        }
      ]
    },
    {
      "cell_type": "code",
      "metadata": {
        "id": "ojJZCdnA-jU7"
      },
      "source": [
        ""
      ],
      "execution_count": null,
      "outputs": []
    }
  ]
}