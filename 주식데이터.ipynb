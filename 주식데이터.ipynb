{
  "nbformat": 4,
  "nbformat_minor": 0,
  "metadata": {
    "colab": {
      "name": "주식데이터.ipynb",
      "provenance": [],
      "collapsed_sections": [],
      "authorship_tag": "ABX9TyMoQLLle0cByJf4zP5AEVOp",
      "include_colab_link": true
    },
    "kernelspec": {
      "name": "python3",
      "display_name": "Python 3"
    },
    "language_info": {
      "name": "python"
    }
  },
  "cells": [
    {
      "cell_type": "markdown",
      "metadata": {
        "id": "view-in-github",
        "colab_type": "text"
      },
      "source": [
        "<a href=\"https://colab.research.google.com/github/6058ah/BusinessCapstone/blob/master/%EC%A3%BC%EC%8B%9D%EB%8D%B0%EC%9D%B4%ED%84%B0.ipynb\" target=\"_parent\"><img src=\"https://colab.research.google.com/assets/colab-badge.svg\" alt=\"Open In Colab\"/></a>"
      ]
    },
    {
      "cell_type": "markdown",
      "metadata": {
        "id": "iZUZwfaVCQQL"
      },
      "source": [
        "#회사명 및 종목 코드 목록 불러오기"
      ]
    },
    {
      "cell_type": "code",
      "metadata": {
        "colab": {
          "base_uri": "https://localhost:8080/",
          "height": 419
        },
        "id": "6KqXXgZ6_WTh",
        "outputId": "baa05d3e-fc49-422e-95bd-1bb5c209945b"
      },
      "source": [
        "import pandas as pd\n",
        "import pandas_datareader as pdr\n",
        "\n",
        "# 종목 타입에 따라 download url이 다름. 종목코드 뒤에 .KS .KQ등이 입력되어야해서 Download Link 구분 필요\n",
        "stock_type = {\n",
        "'kospi': 'stockMkt',\n",
        "'kosdaq': 'kosdaqMkt'\n",
        "}\n",
        "\n",
        "# 회사명으로 주식 종목 코드를 획득할 수 있도록 하는 함수\n",
        "def get_code(df, name):\n",
        "  code = df.query(\"name=='{}'\".format(name))['code'].to_string(index=False)\n",
        "# 위와같이 code명을 가져오면 앞에 공백이 붙어있는 상황이 발생하여 앞뒤로 sript() 하여 공백 제거\n",
        "  code = code.strip()\n",
        "  return code\n",
        "\n",
        "\n",
        "# download url 조합\n",
        "def get_download_stock(market_type=None):\n",
        "  market_type = stock_type[market_type]\n",
        "  download_link = 'http://kind.krx.co.kr/corpgeneral/corpList.do'\n",
        "  download_link = download_link + '?method=download'\n",
        "  download_link = download_link + '&marketType=' + market_type\n",
        "\n",
        "  df = pd.read_html(download_link, header=0)[0]\n",
        "  return df;\n",
        "\n",
        "\n",
        "# kospi 종목코드 목록 다운로드\n",
        "def get_download_kospi():\n",
        "  df = get_download_stock('kospi')\n",
        "  df.종목코드 = df.종목코드.map('{:06d}.KS'.format)\n",
        "  return df\n",
        "\n",
        "# kospi종목코드 다운로드\n",
        "kospi_df = get_download_kospi()\n",
        "\n",
        "\n",
        "# data frame merge\n",
        "code_df = pd.concat([kospi_df])\n",
        "\n",
        "\n",
        "# data frame정리\n",
        "code_df = code_df[['회사명', '종목코드']]\n",
        "\n",
        "\n",
        "# data frame title 변경 '회사명' = name, 종목코드 = 'code'\n",
        "code_df = code_df.rename(columns={'회사명': 'name', '종목코드': 'code'})\n",
        "\n",
        "code_df"
      ],
      "execution_count": 162,
      "outputs": [
        {
          "output_type": "execute_result",
          "data": {
            "text/html": [
              "<div>\n",
              "<style scoped>\n",
              "    .dataframe tbody tr th:only-of-type {\n",
              "        vertical-align: middle;\n",
              "    }\n",
              "\n",
              "    .dataframe tbody tr th {\n",
              "        vertical-align: top;\n",
              "    }\n",
              "\n",
              "    .dataframe thead th {\n",
              "        text-align: right;\n",
              "    }\n",
              "</style>\n",
              "<table border=\"1\" class=\"dataframe\">\n",
              "  <thead>\n",
              "    <tr style=\"text-align: right;\">\n",
              "      <th></th>\n",
              "      <th>name</th>\n",
              "      <th>code</th>\n",
              "    </tr>\n",
              "  </thead>\n",
              "  <tbody>\n",
              "    <tr>\n",
              "      <th>0</th>\n",
              "      <td>DSR</td>\n",
              "      <td>155660.KS</td>\n",
              "    </tr>\n",
              "    <tr>\n",
              "      <th>1</th>\n",
              "      <td>GS글로벌</td>\n",
              "      <td>001250.KS</td>\n",
              "    </tr>\n",
              "    <tr>\n",
              "      <th>2</th>\n",
              "      <td>HDC현대산업개발</td>\n",
              "      <td>294870.KS</td>\n",
              "    </tr>\n",
              "    <tr>\n",
              "      <th>3</th>\n",
              "      <td>KEC</td>\n",
              "      <td>092220.KS</td>\n",
              "    </tr>\n",
              "    <tr>\n",
              "      <th>4</th>\n",
              "      <td>KG동부제철</td>\n",
              "      <td>016380.KS</td>\n",
              "    </tr>\n",
              "    <tr>\n",
              "      <th>...</th>\n",
              "      <td>...</td>\n",
              "      <td>...</td>\n",
              "    </tr>\n",
              "    <tr>\n",
              "      <th>800</th>\n",
              "      <td>현대위아</td>\n",
              "      <td>011210.KS</td>\n",
              "    </tr>\n",
              "    <tr>\n",
              "      <th>801</th>\n",
              "      <td>현대코퍼레이션</td>\n",
              "      <td>011760.KS</td>\n",
              "    </tr>\n",
              "    <tr>\n",
              "      <th>802</th>\n",
              "      <td>화신</td>\n",
              "      <td>010690.KS</td>\n",
              "    </tr>\n",
              "    <tr>\n",
              "      <th>803</th>\n",
              "      <td>휴켐스</td>\n",
              "      <td>069260.KS</td>\n",
              "    </tr>\n",
              "    <tr>\n",
              "      <th>804</th>\n",
              "      <td>흥국화재</td>\n",
              "      <td>000540.KS</td>\n",
              "    </tr>\n",
              "  </tbody>\n",
              "</table>\n",
              "<p>805 rows × 2 columns</p>\n",
              "</div>"
            ],
            "text/plain": [
              "          name       code\n",
              "0          DSR  155660.KS\n",
              "1        GS글로벌  001250.KS\n",
              "2    HDC현대산업개발  294870.KS\n",
              "3          KEC  092220.KS\n",
              "4       KG동부제철  016380.KS\n",
              "..         ...        ...\n",
              "800       현대위아  011210.KS\n",
              "801    현대코퍼레이션  011760.KS\n",
              "802         화신  010690.KS\n",
              "803        휴켐스  069260.KS\n",
              "804       흥국화재  000540.KS\n",
              "\n",
              "[805 rows x 2 columns]"
            ]
          },
          "metadata": {
            "tags": []
          },
          "execution_count": 162
        }
      ]
    },
    {
      "cell_type": "markdown",
      "metadata": {
        "id": "QtjTTZV0CWUa"
      },
      "source": [
        "#KOSPI 상위 20 종목 가져오기"
      ]
    },
    {
      "cell_type": "code",
      "metadata": {
        "id": "cmEgQ5xSCOG2"
      },
      "source": [
        "from bs4 import BeautifulSoup\n",
        "import requests\n",
        "\n",
        "url = 'https://finance.naver.com/sise/sise_market_sum.nhn?sosok=0'\n",
        "req = requests.get(url)\n",
        " \n",
        "if req.ok:\n",
        "  html = req.text\n",
        "  soup = BeautifulSoup(html,'html.parser')\n",
        "\n",
        "Top_KOSPI = soup.select('table > tbody > tr > td > a')\n",
        "Top20_KOSPI = [each_line.get_text() for each_line in Top_KOSPI[:40]]\n",
        "Top20_KOSPI = Top20_KOSPI[0::2]\n",
        "\n",
        "\n",
        "# 현대차, POSCO로 야후 파이낸스에서 인식 못함\n",
        "# 삼성전자우는 삼성전자와 동일 기업임으로 엔씨소프트와 교체\n",
        "Top20_KOSPI[7] = '현대모비스'\n",
        "Top20_KOSPI[12] = '포스코'\n",
        "del Top20_KOSPI[3]\n",
        "Top20_KOSPI.append('엔씨소프트')"
      ],
      "execution_count": 163,
      "outputs": []
    },
    {
      "cell_type": "markdown",
      "metadata": {
        "id": "xTwjuhC0N0qk"
      },
      "source": [
        "#데이터 추출"
      ]
    },
    {
      "cell_type": "code",
      "metadata": {
        "colab": {
          "base_uri": "https://localhost:8080/"
        },
        "id": "oU-MG1pvNkvW",
        "outputId": "0eae703c-2407-4920-fe67-8fd77a253078"
      },
      "source": [
        "#print(Top20_KOSPI)\n",
        "code_KOSPI = []\n",
        "for x in range(0,20):\n",
        "  code = get_code(code_df, Top20_KOSPI[x])\n",
        "  code_KOSPI.append(code)\n",
        "#print(code_KOSPI)"
      ],
      "execution_count": 169,
      "outputs": [
        {
          "output_type": "stream",
          "text": [
            "['삼성전자', 'SK하이닉스', 'NAVER', 'LG화학', '삼성바이오로직스', '카카오', '현대모비스', '삼성SDI', '셀트리온', '기아', '현대모비스', '포스코', 'LG전자', 'LG생활건강', '삼성물산', 'SK텔레콤', 'SK이노베이션', 'KB금융', 'SK', '엔씨소프트']\n",
            "['005930.KS', '000660.KS', '035420.KS', '051910.KS', '207940.KS', '035720.KS', '012330.KS', '006400.KS', '068270.KS', '000270.KS', '012330.KS', '005490.KS', '066570.KS', '051900.KS', '028260.KS', '017670.KS', '096770.KS', '105560.KS', '034730.KS', '036570.KS']\n"
          ],
          "name": "stdout"
        }
      ]
    },
    {
      "cell_type": "code",
      "metadata": {
        "id": "T-FUAyXcQ1Hq"
      },
      "source": [
        "from datetime import datetime\n",
        "start = datetime(2011,1,1)\n",
        "end = datetime(2021,4,9)\n",
        "# open 시가\n",
        "# high 고가\n",
        "# low 저가\n",
        "# close 종가\n",
        "# volume 거래량\n",
        "# Adj Close 주식의 분할, 배당, 배분 등을 고려해 조정한 종가"
      ],
      "execution_count": 165,
      "outputs": []
    },
    {
      "cell_type": "code",
      "metadata": {
        "id": "Qp9RjGItVawj"
      },
      "source": [
        "writer = pd.ExcelWriter('KOSPI_TOP20.xlsx', engine='xlsxwriter')\n",
        "for i in range(0,20):\n",
        "  df = pdr.get_data_yahoo(code_KOSPI[i],start,end)\n",
        "  df.to_excel(writer, sheet_name= Top20_KOSPI[i])\n",
        "\n",
        "writer.save()"
      ],
      "execution_count": 170,
      "outputs": []
    }
  ]
}