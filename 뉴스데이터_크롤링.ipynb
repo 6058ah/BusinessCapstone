{
  "nbformat": 4,
  "nbformat_minor": 0,
  "metadata": {
    "colab": {
      "name": "뉴스데이터 크롤링.ipynb",
      "provenance": [],
      "collapsed_sections": [],
      "authorship_tag": "ABX9TyO6pDkwI6x2PE4eeVWN6LMv",
      "include_colab_link": true
    },
    "kernelspec": {
      "name": "python3",
      "display_name": "Python 3"
    },
    "language_info": {
      "name": "python"
    }
  },
  "cells": [
    {
      "cell_type": "markdown",
      "metadata": {
        "id": "view-in-github",
        "colab_type": "text"
      },
      "source": [
        "<a href=\"https://colab.research.google.com/github/6058ah/BusinessCapstone/blob/master/%EB%89%B4%EC%8A%A4%EB%8D%B0%EC%9D%B4%ED%84%B0_%ED%81%AC%EB%A1%A4%EB%A7%81.ipynb\" target=\"_parent\"><img src=\"https://colab.research.google.com/assets/colab-badge.svg\" alt=\"Open In Colab\"/></a>"
      ]
    },
    {
      "cell_type": "code",
      "metadata": {
        "colab": {
          "base_uri": "https://localhost:8080/"
        },
        "id": "Fac-_weF6Hc9",
        "outputId": "43b7b32e-26f2-46c4-df02-0fd433888ed5"
      },
      "source": [
        "!pip install xlsxwriter"
      ],
      "execution_count": 58,
      "outputs": [
        {
          "output_type": "stream",
          "text": [
            "Requirement already satisfied: xlsxwriter in /usr/local/lib/python3.7/dist-packages (1.4.0)\n"
          ],
          "name": "stdout"
        }
      ]
    },
    {
      "cell_type": "code",
      "metadata": {
        "colab": {
          "base_uri": "https://localhost:8080/"
        },
        "id": "gv09vQzKsnF6",
        "outputId": "65c2e02c-337f-419a-d356-2ec51ecd52b4"
      },
      "source": [
        "from google.colab import drive\n",
        "drive.mount('/content/drive')"
      ],
      "execution_count": null,
      "outputs": [
        {
          "output_type": "stream",
          "text": [
            "Drive already mounted at /content/drive; to attempt to forcibly remount, call drive.mount(\"/content/drive\", force_remount=True).\n"
          ],
          "name": "stdout"
        }
      ]
    },
    {
      "cell_type": "code",
      "metadata": {
        "id": "87RqPsLxkriB"
      },
      "source": [
        "from bs4 import BeautifulSoup\n",
        "from datetime import datetime\n",
        "import requests\n",
        "import pandas as pd\n",
        "import re\n",
        "\n",
        "'''''''''''''''''''''''''''''''''''''''''''''''''''''''''\n",
        "< naver 뉴스 검색시 리스트 크롤링하는 프로그램 > _select사용\n",
        "- 크롤링 해오는 것 : 링크,제목,신문사,내용요약본\n",
        "- 내용요약본  -> 정제 작업 필요\n",
        "- 리스트 -> 딕셔너리 -> df -> 엑셀로 저장\n",
        "'''''''''''''''''''''\n",
        "\n",
        "#각 크롤링 결과 저장하기 위한 리스트 선언\n",
        "title_text=[]\n",
        "link_text=[]\n",
        "source_text=[]\n",
        "contents_text=[]\n",
        "page_list=[]\n",
        "result={}\n",
        "\n",
        "#엑셀로 저장하기 위한 변수\n",
        "RESULT_PATH ='/content/drive'  #결과 저장할 경로\n",
        "\n",
        "#날짜 범위 리스트로 만들기\n",
        "def date_range(start, end):\n",
        "    start = datetime.strptime(start, \"%Y.%m.%d\")\n",
        "    end = datetime.strptime(end, \"%Y.%m.%d\")\n",
        "    dates = [date.strftime(\"%Y.%m.%d\") for date in pandas.date_range(start, periods=(end-start).days+1)]\n",
        "    return dates\n",
        "\n",
        "#크롤링 시작\n",
        "def crawler(maxpage,query,sort,s_date,e_date):\n",
        "    dates = date_range(s_date, e_date)\n",
        "    last = False\n",
        "    page_num = 1\n",
        "    maxpage_t =(int(maxpage)-1)*10+1 \n",
        "    while page_num <= maxpage_t:\n",
        "      for x in dates:\n",
        "        y = x.replace(\".\",\"\")\n",
        "        url = \"https://search.naver.com/search.naver?where=news&query=\" + query + \"&sort=\"+sort+\"&ds=\" + x + \"&de=\" + x + \"&nso=so%3Ar%2Cp%3Afrom\" + y + \"to\" + y + \"%2Ca%3A&start=\" + str(page_num)\n",
        "        #url = \"https://search.naver.com/search.naver?&where=news&query={0}&sm=tab_pge&sort={1}&photo=0&field=0&reporter_article=&pd=3&ds={2}&de={2}&docid=&nso=so:r,p:,a:all&mynews=1&cluster_rank=238&start={3}&refresh_start=0\".format(query,sort,x,str(page_num))\n",
        "        response = requests.get(url)\n",
        "        html = response.text\n",
        "\n",
        "        #뷰티풀소프의 인자값 지정\n",
        "        soup = BeautifulSoup(html, 'html.parser')\n",
        "\n",
        "        #<a>태그에서 제목과 링크주소 (a 태그 중 class 명이 news_tit인 것)\n",
        "        atags = soup.find_all('a', 'news_tit')\n",
        "        for atag in atags:\n",
        "            title = atag.get('title')\n",
        "            title_text.append(title)     #제목\n",
        "\n",
        "        #모든 리스트 딕셔너리형태로 저장\n",
        "        result= {\"title\":title_text}\n",
        "        df = pd.DataFrame(result) #df로 변환\n",
        "        title_text.clear()\n",
        "        page_num += 10\n",
        "\n",
        "    # 새로 만들 파일이름 지정\n",
        "    outputFileName = '{0}~{1} {2} 관련 뉴스제목.xlsx'.format(s_date.replace(\".\",\"\"), e_date.replace(\".\",\"\"), query)\n",
        "    writer = pd.ExcelWriter(outputFileName, engine='xlsxwriter')\n",
        "    for i in range(len(dates)):\n",
        "      df.to_excel(writer, sheet_name= dates[i])\n",
        "    writer.save()\n",
        "\n",
        "    #outputFileName = '{0}~{1} {2} 관련 뉴스제목.xlsx'.format(s_date.replace(\".\",\"\"), e_date.replace(\".\",\"\"), query)\n",
        "    #df.to_excel(RESULT_PATH+outputFileName,sheet_name='sheet1')\n",
        "\n",
        "#메인함수\n",
        "def main():\n",
        "    info_main = input(\"=\"*50+\"\\n\"+\"입력 형식에 맞게 입력해주세요.\"+\"\\n\"+\" 시작하시려면 Enter를 눌러주세요.\"+\"\\n\"+\"=\"*50)\n",
        "    maxpage = input(\"최대 크롤링할 페이지 수 입력하시오: \") #10,20...\n",
        "    query = input(\"검색어 입력: \") #네이버, 부동산...\n",
        "    sort = input(\"뉴스 검색 방식 입력(관련도순=0  최신순=1  오래된순=2): \")    #관련도순=0  최신순=1  오래된순=2\n",
        "    s_date = input(\"시작날짜 입력:\")\n",
        "    e_date = input(\"끝날짜 입력:\")\n",
        "    crawler(maxpage,query,sort,s_date,e_date)"
      ],
      "execution_count": 126,
      "outputs": []
    },
    {
      "cell_type": "code",
      "metadata": {
        "id": "qD31UI2P4qHK",
        "colab": {
          "base_uri": "https://localhost:8080/"
        },
        "outputId": "80c0e207-c6e7-4bac-d0a1-f363103aa554"
      },
      "source": [
        "main()"
      ],
      "execution_count": 127,
      "outputs": [
        {
          "output_type": "stream",
          "text": [
            "==================================================\n",
            "입력 형식에 맞게 입력해주세요.\n",
            " 시작하시려면 Enter를 눌러주세요.\n",
            "==================================================\n",
            "최대 크롤링할 페이지 수 입력하시오: 10\n",
            "검색어 입력: 2차전지\n",
            "뉴스 검색 방식 입력(관련도순=0  최신순=1  오래된순=2): 0\n",
            "시작날짜 입력:2019.01.01\n",
            "끝날짜 입력:2019.01.02\n"
          ],
          "name": "stdout"
        }
      ]
    },
    {
      "cell_type": "markdown",
      "metadata": {
        "id": "1fDf-dOW855Q"
      },
      "source": [
        "#참고\n",
        "##https://hansuho113.tistory.com/3?category=913503\n",
        "##https://adsp-ggini.tistory.com/80"
      ]
    }
  ]
}