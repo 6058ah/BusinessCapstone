{
  "nbformat": 4,
  "nbformat_minor": 0,
  "metadata": {
    "colab": {
      "name": "뉴스데이터 크롤링.ipynb",
      "provenance": [],
      "collapsed_sections": [],
      "authorship_tag": "ABX9TyOw+hx97aOjZ+BY1hN/5Xex",
      "include_colab_link": true
    },
    "kernelspec": {
      "name": "python3",
      "display_name": "Python 3"
    },
    "language_info": {
      "name": "python"
    }
  },
  "cells": [
    {
      "cell_type": "markdown",
      "metadata": {
        "id": "view-in-github",
        "colab_type": "text"
      },
      "source": [
        "<a href=\"https://colab.research.google.com/github/6058ah/BusinessCapstone/blob/master/%EB%89%B4%EC%8A%A4%EB%8D%B0%EC%9D%B4%ED%84%B0_%ED%81%AC%EB%A1%A4%EB%A7%81.ipynb\" target=\"_parent\"><img src=\"https://colab.research.google.com/assets/colab-badge.svg\" alt=\"Open In Colab\"/></a>"
      ]
    },
    {
      "cell_type": "code",
      "metadata": {
        "colab": {
          "base_uri": "https://localhost:8080/"
        },
        "id": "H8rcAN8Lq5vQ",
        "outputId": "924a62a2-ce2f-4422-e58a-adccefef4f75"
      },
      "source": [
        "!pip install xlsxwriter"
      ],
      "execution_count": 15,
      "outputs": [
        {
          "output_type": "stream",
          "text": [
            "Collecting xlsxwriter\n",
            "\u001b[?25l  Downloading https://files.pythonhosted.org/packages/3f/c1/2a77723ae03fea7650f8d77ab78055c08fd905fc956d67d4e4c4fc32c653/XlsxWriter-1.4.0-py2.py3-none-any.whl (147kB)\n",
            "\r\u001b[K     |██▎                             | 10kB 13.2MB/s eta 0:00:01\r\u001b[K     |████▌                           | 20kB 12.1MB/s eta 0:00:01\r\u001b[K     |██████▊                         | 30kB 10.0MB/s eta 0:00:01\r\u001b[K     |█████████                       | 40kB 8.5MB/s eta 0:00:01\r\u001b[K     |███████████▏                    | 51kB 5.1MB/s eta 0:00:01\r\u001b[K     |█████████████▍                  | 61kB 5.7MB/s eta 0:00:01\r\u001b[K     |███████████████▋                | 71kB 5.9MB/s eta 0:00:01\r\u001b[K     |█████████████████▉              | 81kB 6.4MB/s eta 0:00:01\r\u001b[K     |████████████████████            | 92kB 6.0MB/s eta 0:00:01\r\u001b[K     |██████████████████████▎         | 102kB 6.5MB/s eta 0:00:01\r\u001b[K     |████████████████████████▌       | 112kB 6.5MB/s eta 0:00:01\r\u001b[K     |██████████████████████████▊     | 122kB 6.5MB/s eta 0:00:01\r\u001b[K     |█████████████████████████████   | 133kB 6.5MB/s eta 0:00:01\r\u001b[K     |███████████████████████████████▏| 143kB 6.5MB/s eta 0:00:01\r\u001b[K     |████████████████████████████████| 153kB 6.5MB/s \n",
            "\u001b[?25hInstalling collected packages: xlsxwriter\n",
            "Successfully installed xlsxwriter-1.4.0\n"
          ],
          "name": "stdout"
        }
      ]
    },
    {
      "cell_type": "code",
      "metadata": {
        "colab": {
          "base_uri": "https://localhost:8080/"
        },
        "id": "gv09vQzKsnF6",
        "outputId": "65c2e02c-337f-419a-d356-2ec51ecd52b4"
      },
      "source": [
        "from google.colab import drive\n",
        "drive.mount('/content/drive')"
      ],
      "execution_count": 19,
      "outputs": [
        {
          "output_type": "stream",
          "text": [
            "Drive already mounted at /content/drive; to attempt to forcibly remount, call drive.mount(\"/content/drive\", force_remount=True).\n"
          ],
          "name": "stdout"
        }
      ]
    },
    {
      "cell_type": "code",
      "metadata": {
        "id": "87RqPsLxkriB"
      },
      "source": [
        "from bs4 import BeautifulSoup\n",
        "from datetime import datetime\n",
        "import requests\n",
        "import pandas as pd\n",
        "import re\n",
        "\n",
        "'''''''''''''''''''''''''''''''''''''''''''''''''''''''''\n",
        "< naver 뉴스 검색시 리스트 크롤링하는 프로그램 > _select사용\n",
        "- 크롤링 해오는 것 : 링크,제목,신문사,내용요약본\n",
        "- 내용요약본  -> 정제 작업 필요\n",
        "- 리스트 -> 딕셔너리 -> df -> 엑셀로 저장\n",
        "'''''''''''''''''''''\n",
        "\n",
        "#각 크롤링 결과 저장하기 위한 리스트 선언\n",
        "title_text=[]\n",
        "link_text=[]\n",
        "source_text=[]\n",
        "contents_text=[]\n",
        "result={}\n",
        "\n",
        "#엑셀로 저장하기 위한 변수\n",
        "RESULT_PATH ='/content/drive'  #결과 저장할 경로\n",
        "now = datetime.now() #파일이름 현 시간으로 저장하기\n",
        "\n",
        "#내용 정제화 함수\n",
        "def contents_cleansing(contents):\n",
        "    first_cleansing_contents = re.sub('<dl>.*?</a> </div> </dd> <dd>', '',str(contents)).strip()  #앞에 필요없는 부분 제거\n",
        "    second_cleansing_contents = re.sub('<ul class=\"relation_lst\">.*?</dd>', '', first_cleansing_contents).strip()#뒤에 필요없는 부분 제거 (새끼 기사)\n",
        "    third_cleansing_contents = re.sub('<.+?>', '', second_cleansing_contents).strip()\n",
        "    contents_text.append(third_cleansing_contents)\n",
        "    #print(contents_text)\n",
        "\n",
        "#크롤링 시작\n",
        "def crawler(maxpage,query,sort,s_date,e_date):\n",
        "    s_from = s_date.replace(\".\",\"\")\n",
        "    e_to = e_date.replace(\".\",\"\")\n",
        "    page = 1\n",
        "    maxpage_t =(int(maxpage)-1)*10+1   # 11= 2페이지 21=3페이지 31=4페이지  ...81=9페이지 , 91=10페이지, 101=11페이지\n",
        "    while page <= maxpage_t:\n",
        "        url = \"https://search.naver.com/search.naver?where=news&query=\" + query + \"&sort=\"+sort+\"&ds=\" + s_date + \"&de=\" + e_date + \"&nso=so%3Ar%2Cp%3Afrom\" + s_from + \"to\" + e_to + \"%2Ca%3A&start=\" + str(page)\n",
        "        response = requests.get(url)\n",
        "        html = response.text\n",
        "\n",
        "        #뷰티풀소프의 인자값 지정\n",
        "        soup = BeautifulSoup(html, 'html.parser')\n",
        "\n",
        "        #<a>태그에서 제목과 링크주소 (a 태그 중 class 명이 news_tit인 것)\n",
        "        atags = soup.find_all('a', 'news_tit')\n",
        "        for atag in atags:\n",
        "            title = atag.get('title')\n",
        "            title_text.append(title)     #제목\n",
        "\n",
        "        #본문요약본 (a 태그 중 class 명이 api_txt_lines dsc_txt_wrap인 것)\n",
        "        contents_lists = soup.find_all('a','api_txt_lines dsc_txt_wrap')\n",
        "        for contents_list in contents_lists:\n",
        "            contents_cleansing(contents_list) #본문요약 정제화\n",
        "\n",
        "        #모든 리스트 딕셔너리형태로 저장\n",
        "        result= {\"title\":title_text,\"contents\": contents_text}\n",
        "        df = pd.DataFrame(result)  #df로 변환\n",
        "        page += 10\n",
        "\n",
        "    # 새로 만들 파일이름 지정\n",
        "    outputFileName = '{0}~{1} {2}관련 뉴스제목.xlsx'.format(s_from, e_to, query)\n",
        "    df.to_excel(RESULT_PATH+outputFileName,sheet_name='sheet1')\n",
        "\n",
        "#메인함수\n",
        "def main():\n",
        "    info_main = input(\"=\"*50+\"\\n\"+\"입력 형식에 맞게 입력해주세요.\"+\"\\n\"+\" 시작하시려면 Enter를 눌러주세요.\"+\"\\n\"+\"=\"*50)\n",
        "    maxpage = input(\"최대 크롤링할 페이지 수 입력하시오: \") #10,20...\n",
        "    query = input(\"검색어 입력: \") #네이버, 부동산...\n",
        "    sort = input(\"뉴스 검색 방식 입력(관련도순=0  최신순=1  오래된순=2): \")    #관련도순=0  최신순=1  오래된순=2\n",
        "    s_date = input(\"시작날짜 입력(2019.01.04):\")  #2019.01.04\n",
        "    e_date = input(\"끝날짜 입력(2019.01.05):\")   #2019.01.05\n",
        "    crawler(maxpage,query,sort,s_date,e_date)"
      ],
      "execution_count": 23,
      "outputs": []
    },
    {
      "cell_type": "code",
      "metadata": {
        "colab": {
          "base_uri": "https://localhost:8080/"
        },
        "id": "ncn4O9Fgk21p",
        "outputId": "40c4950d-3b7f-43d4-94ff-38fd58688833"
      },
      "source": [
        "main()"
      ],
      "execution_count": 27,
      "outputs": [
        {
          "output_type": "stream",
          "text": [
            "==================================================\n",
            "입력 형식에 맞게 입력해주세요.\n",
            " 시작하시려면 Enter를 눌러주세요.\n",
            "==================================================\n",
            "최대 크롤링할 페이지 수 입력하시오: 10\n",
            "검색어 입력: 2차전지\n",
            "뉴스 검색 방식 입력(관련도순=0  최신순=1  오래된순=2): 0\n",
            "시작날짜 입력(2019.01.04):2019.01.04\n",
            "끝날짜 입력(2019.01.05):2019.01.05\n"
          ],
          "name": "stdout"
        }
      ]
    },
    {
      "cell_type": "code",
      "metadata": {
        "id": "vVYh4QBHt8up"
      },
      "source": [
        ""
      ],
      "execution_count": null,
      "outputs": []
    }
  ]
}